{
  "nbformat": 4,
  "nbformat_minor": 0,
  "metadata": {
    "colab": {
      "name": "Python.ipynb",
      "provenance": [],
      "collapsed_sections": [],
      "toc_visible": true,
      "authorship_tag": "ABX9TyOyXoNAPG4fXsE0DHBhQK2/",
      "include_colab_link": true
    },
    "kernelspec": {
      "name": "python3",
      "display_name": "Python 3"
    }
  },
  "cells": [
    {
      "cell_type": "markdown",
      "metadata": {
        "id": "view-in-github",
        "colab_type": "text"
      },
      "source": [
        "<a href=\"https://colab.research.google.com/github/kelvinhoward/code_snippets/blob/main/Python.ipynb\" target=\"_parent\"><img src=\"https://colab.research.google.com/assets/colab-badge.svg\" alt=\"Open In Colab\"/></a>"
      ]
    },
    {
      "cell_type": "markdown",
      "metadata": {
        "id": "XHf8du7drjz_"
      },
      "source": [
        "# Python Variables\n",
        "\n",
        "\n",
        "---\n",
        "\n",
        "*   Alternatives to global values\n",
        "\n",
        "\n",
        "\n"
      ]
    },
    {
      "cell_type": "markdown",
      "metadata": {
        "id": "ZeSraXKgsABS"
      },
      "source": [
        "Alternatives to global values\n",
        "[Source](https://medium.com/better-programming/alternatives-to-using-globals-in-python-a3b2a7d5411b)\n",
        "\n",
        "\n"
      ]
    },
    {
      "cell_type": "markdown",
      "metadata": {
        "id": "tT69o08uP5oO"
      },
      "source": [
        "# Dataframe\n",
        "\n",
        "\n",
        "---\n",
        "\n",
        "\n",
        "\n",
        "*   Update Index after sorting df source\n",
        "*   Check to see if value exists\n",
        "*   Rearrange Columns in Datafield\n",
        "*   Add columns of different length\n",
        "*   Remove all values present in other list\n",
        "*   Create df using list of lists\n",
        "\n",
        "\n",
        "\n"
      ]
    },
    {
      "cell_type": "markdown",
      "metadata": {
        "id": "Ov_uwsN8JFAK"
      },
      "source": [
        "**Update index after sorting df**\n",
        "[source](https://stackoverflow.com/questions/33165734/update-index-after-sorting-data-frame)"
      ]
    },
    {
      "cell_type": "code",
      "metadata": {
        "colab": {
          "base_uri": "https://localhost:8080/"
        },
        "id": "ePqUihLLOXVl",
        "outputId": "f9ac76bc-fd3f-445a-e910-b03efe82614e"
      },
      "source": [
        "import numpy as np\n",
        "import pandas as pd\n",
        "x = np.tile(np.arange(3),3)\n",
        "y = np.repeat(np.arange(3),3)\n",
        "df = pd.DataFrame({\"x\": x, \"y\": y})\n",
        "df2 = df.sort_values(by='x')\n",
        "print(df2)\n",
        "df2 = df.reset_index(drop=True)\n",
        "print(df2)"
      ],
      "execution_count": null,
      "outputs": [
        {
          "output_type": "stream",
          "text": [
            "   x  y\n",
            "0  0  0\n",
            "3  0  1\n",
            "6  0  2\n",
            "1  1  0\n",
            "4  1  1\n",
            "7  1  2\n",
            "2  2  0\n",
            "5  2  1\n",
            "8  2  2\n",
            "   x  y\n",
            "0  0  0\n",
            "1  1  0\n",
            "2  2  0\n",
            "3  0  1\n",
            "4  1  1\n",
            "5  2  1\n",
            "6  0  2\n",
            "7  1  2\n",
            "8  2  2\n"
          ],
          "name": "stdout"
        }
      ]
    },
    {
      "cell_type": "markdown",
      "metadata": {
        "id": "XyzA252qQt8U"
      },
      "source": [
        "**Check to see if value exists**\n",
        "[source](https://www.kite.com/python/answers/how-to-check-if-a-value-exists-in-a-pandas-dataframe-in-python\n",
        ")\n",
        "\n",
        "\n",
        "```\n",
        "\"value\" in df.column\n",
        "3 in df.column\n",
        "```\n",
        "\n",
        "**Rearrange Columns in Datafield**\n",
        "\n",
        "[source](https://www.kite.com/python/answers/how-to-reorder-columns-in-a-pandas-dataframe-in-python)\n",
        "\n",
        "```\n",
        "column_names = [\"C\", \"A\", \"B\"]\n",
        "df = df.reindex(columns=column_names)\n",
        "```\n",
        "\n",
        "\n",
        "\n"
      ]
    },
    {
      "cell_type": "markdown",
      "metadata": {
        "id": "wdtW3dgdxipi"
      },
      "source": [
        "**Add columns of different length**\n",
        "\n",
        "[source](https://www.iditect.com/how-to/50502288.html)\n",
        "\n",
        "\n"
      ]
    },
    {
      "cell_type": "code",
      "metadata": {
        "colab": {
          "base_uri": "https://localhost:8080/",
          "height": 359
        },
        "id": "f9pe-44TQ2rS",
        "outputId": "b5d2fdc1-748a-4b45-eaf6-71b5c83f549c"
      },
      "source": [
        "import pandas as pd\n",
        "\n",
        "a = [0,1,2,3]\n",
        "b = [0,1,2,3,4,5,6,7,8,9]\n",
        "c = [0,1]\n",
        "\n",
        "#Find the Length of all list\n",
        "la,lb,lc = len(a),len(b),len(c)\n",
        "# now find the max\n",
        "max_len = max(la,lb,lc)\n",
        "\n",
        "#Resize all according to the determined max length \n",
        "if not max_len == la:\n",
        "  a.extend(['']*(max_len-la))\n",
        "if not max_len == lb:\n",
        "  b.extend(['']*(max_len-lb))\n",
        "if not max_len == lc:\n",
        "  c.extend(['']*(max_len-lc))\n",
        "\n",
        "#Now the all list is same length and create dataframe\n",
        "pd.DataFrame({'A':a,'B':b,'C':c}) \n",
        "\n"
      ],
      "execution_count": null,
      "outputs": [
        {
          "output_type": "execute_result",
          "data": {
            "text/html": [
              "<div>\n",
              "<style scoped>\n",
              "    .dataframe tbody tr th:only-of-type {\n",
              "        vertical-align: middle;\n",
              "    }\n",
              "\n",
              "    .dataframe tbody tr th {\n",
              "        vertical-align: top;\n",
              "    }\n",
              "\n",
              "    .dataframe thead th {\n",
              "        text-align: right;\n",
              "    }\n",
              "</style>\n",
              "<table border=\"1\" class=\"dataframe\">\n",
              "  <thead>\n",
              "    <tr style=\"text-align: right;\">\n",
              "      <th></th>\n",
              "      <th>A</th>\n",
              "      <th>B</th>\n",
              "      <th>C</th>\n",
              "    </tr>\n",
              "  </thead>\n",
              "  <tbody>\n",
              "    <tr>\n",
              "      <th>0</th>\n",
              "      <td>0</td>\n",
              "      <td>0</td>\n",
              "      <td>0</td>\n",
              "    </tr>\n",
              "    <tr>\n",
              "      <th>1</th>\n",
              "      <td>1</td>\n",
              "      <td>1</td>\n",
              "      <td>1</td>\n",
              "    </tr>\n",
              "    <tr>\n",
              "      <th>2</th>\n",
              "      <td>2</td>\n",
              "      <td>2</td>\n",
              "      <td></td>\n",
              "    </tr>\n",
              "    <tr>\n",
              "      <th>3</th>\n",
              "      <td>3</td>\n",
              "      <td>3</td>\n",
              "      <td></td>\n",
              "    </tr>\n",
              "    <tr>\n",
              "      <th>4</th>\n",
              "      <td></td>\n",
              "      <td>4</td>\n",
              "      <td></td>\n",
              "    </tr>\n",
              "    <tr>\n",
              "      <th>5</th>\n",
              "      <td></td>\n",
              "      <td>5</td>\n",
              "      <td></td>\n",
              "    </tr>\n",
              "    <tr>\n",
              "      <th>6</th>\n",
              "      <td></td>\n",
              "      <td>6</td>\n",
              "      <td></td>\n",
              "    </tr>\n",
              "    <tr>\n",
              "      <th>7</th>\n",
              "      <td></td>\n",
              "      <td>7</td>\n",
              "      <td></td>\n",
              "    </tr>\n",
              "    <tr>\n",
              "      <th>8</th>\n",
              "      <td></td>\n",
              "      <td>8</td>\n",
              "      <td></td>\n",
              "    </tr>\n",
              "    <tr>\n",
              "      <th>9</th>\n",
              "      <td></td>\n",
              "      <td>9</td>\n",
              "      <td></td>\n",
              "    </tr>\n",
              "  </tbody>\n",
              "</table>\n",
              "</div>"
            ],
            "text/plain": [
              "   A  B  C\n",
              "0  0  0  0\n",
              "1  1  1  1\n",
              "2  2  2   \n",
              "3  3  3   \n",
              "4     4   \n",
              "5     5   \n",
              "6     6   \n",
              "7     7   \n",
              "8     8   \n",
              "9     9   "
            ]
          },
          "metadata": {
            "tags": []
          },
          "execution_count": 2
        }
      ]
    },
    {
      "cell_type": "markdown",
      "metadata": {
        "id": "UFcDpMO1ysSM"
      },
      "source": [
        "**Remove all values present in other list**\n",
        "\n",
        "[source](https://www.geeksforgeeks.org/python-remove-all-values-from-a-list-present-in-other-list/)"
      ]
    },
    {
      "cell_type": "code",
      "metadata": {
        "colab": {
          "base_uri": "https://localhost:8080/"
        },
        "id": "yVFCqx94y21H",
        "outputId": "7c47c36f-1b26-498d-d86c-de4c2333ba79"
      },
      "source": [
        "# Python 3 code to demonstrate \n",
        "# to remove elements present in other list\n",
        "# using list comprehension \n",
        " \n",
        "# initializing list \n",
        "test_list = [1, 3, 4, 6, 7]\n",
        " \n",
        "# initializing remove list \n",
        "remove_list = [3, 6]\n",
        " \n",
        "# printing original list \n",
        "print (\"The original list is : \" + str(test_list))\n",
        " \n",
        "# printing remove list \n",
        "print (\"The original list is : \" + str(remove_list))\n",
        " \n",
        "# using list comprehension to perform task\n",
        "res = [i for i in test_list if i not in remove_list]\n",
        " \n",
        "# printing result\n",
        "print (\"The list after performing remove operation is : \" + str(res))"
      ],
      "execution_count": null,
      "outputs": [
        {
          "output_type": "stream",
          "text": [
            "The original list is : [1, 3, 4, 6, 7]\n",
            "The original list is : [3, 6]\n",
            "The list after performing remove operation is : [1, 4, 7]\n"
          ],
          "name": "stdout"
        }
      ]
    },
    {
      "cell_type": "markdown",
      "metadata": {
        "id": "hVKGul4NIVuN"
      },
      "source": [
        "**Create df using list of lists**\n",
        "[source](https://www.geeksforgeeks.org/creating-pandas-dataframe-using-list-of-lists/)"
      ]
    },
    {
      "cell_type": "code",
      "metadata": {
        "colab": {
          "base_uri": "https://localhost:8080/"
        },
        "id": "ToS83Ds7IfUU",
        "outputId": "a45bdd05-4bfe-474f-c931-0b2cadc4ee04"
      },
      "source": [
        "# Import pandas library  \n",
        "import pandas as pd  \n",
        "  \n",
        "# initialize list of lists  \n",
        "data = [['Geeks', 10], ['for', 15], ['geeks', 20]]  \n",
        "  \n",
        "# Create the pandas DataFrame  \n",
        "df = pd.DataFrame(data, columns = ['Name', 'Age'])  \n",
        "  \n",
        "# print dataframe.  \n",
        "print(df ) "
      ],
      "execution_count": null,
      "outputs": [
        {
          "output_type": "stream",
          "text": [
            "    Name  Age\n",
            "0  Geeks   10\n",
            "1    for   15\n",
            "2  geeks   20\n"
          ],
          "name": "stdout"
        }
      ]
    },
    {
      "cell_type": "code",
      "metadata": {
        "colab": {
          "base_uri": "https://localhost:8080/"
        },
        "id": "Sw4toiJLI184",
        "outputId": "066dc055-3ec1-49aa-a2f4-1d323d0edcd8"
      },
      "source": [
        "# Import pandas library  \n",
        "import pandas as pd  \n",
        "  \n",
        "# initialize list of lists  \n",
        "data = [[1, 5, 10], [2, 6, 9], [3, 7, 8]]  \n",
        "  \n",
        "# Create the pandas DataFrame  \n",
        "df = pd.DataFrame(data) \n",
        "  \n",
        "# specifying cloumn names \n",
        "df.columns = ['Col_1', 'Col_2', 'Col_3'] \n",
        "  \n",
        "# print dataframe.  \n",
        "print(df, \"\\n\") \n",
        "  \n",
        "# transpose of dataframe \n",
        "df = df.transpose() \n",
        "print(\"Transpose of above dataframe is-\\n\", df) "
      ],
      "execution_count": null,
      "outputs": [
        {
          "output_type": "stream",
          "text": [
            "   Col_1  Col_2  Col_3\n",
            "0      1      5     10\n",
            "1      2      6      9\n",
            "2      3      7      8 \n",
            "\n",
            "Transpose of above dataframe is-\n",
            "         0  1  2\n",
            "Col_1   1  2  3\n",
            "Col_2   5  6  7\n",
            "Col_3  10  9  8\n"
          ],
          "name": "stdout"
        }
      ]
    },
    {
      "cell_type": "markdown",
      "metadata": {
        "id": "8RZD0fA4qtuM"
      },
      "source": [
        "**Apply a function to each row/column in df** [Source](https://thispointer.com/pandas-apply-apply-a-function-to-each-row-column-in-dataframe/)\n",
        "\n",
        "\n"
      ]
    },
    {
      "cell_type": "code",
      "metadata": {
        "colab": {
          "base_uri": "https://localhost:8080/"
        },
        "id": "zl4-kUhPs2aV",
        "outputId": "11e9a62c-a6fd-4866-9917-05bb1876c734"
      },
      "source": [
        "# List of Tuples\n",
        "matrix = [(222, 34, 23),\n",
        "         (333, 31, 11),\n",
        "         (444, 16, 21),\n",
        "         (555, 32, 22),\n",
        "         (666, 33, 27),\n",
        "         (777, 35, 11)\n",
        "         ]\n",
        "# Create a DataFrame object\n",
        "dfObj = pd.DataFrame(matrix, columns=list('abc'))\n",
        "\n",
        "# Multiply given value by 2 and returns\n",
        "def doubleData(x):\n",
        "   return x * 2\n",
        "\n",
        "# Apply a user defined function to each column by doubling each value in each column\n",
        "modDfObj = dfObj.apply(doubleData)\n",
        "print(\"Modified Dataframe by applying a user defined function to each column in Dataframe :\")\n",
        "print(modDfObj)\n",
        "\n",
        "# Apply a user defined function to each row by doubling each value in each column\n",
        "modDfObj = dfObj.apply(doubleData, axis=1)\n",
        "\n",
        "# Returns x*y\n",
        "def multiplyData(x, y):\n",
        "   return x * y\n",
        "\n",
        "# Apply a user defined function to each column that will multiply each value in each column by given number\n",
        "modDfObj = dfObj.apply(multiplyData, args=[4])\n",
        "print(\"Modified Dataframe by applying a user defined function (with arguments) to each column in Dataframe :\")\n",
        "print(modDfObj)\n",
        "\n",
        "# Apply a user defined function to each row by doubling each value in each column\n",
        "modDfObj = dfObj.apply(multiplyData, axis=1, args=[3])\n",
        "print(modDfObj)"
      ],
      "execution_count": null,
      "outputs": [
        {
          "output_type": "stream",
          "text": [
            "Modified Dataframe by applying a user defined function to each column in Dataframe :\n",
            "      a   b   c\n",
            "0   444  68  46\n",
            "1   666  62  22\n",
            "2   888  32  42\n",
            "3  1110  64  44\n",
            "4  1332  66  54\n",
            "5  1554  70  22\n",
            "Modified Dataframe by applying a user defined function (with arguments) to each column in Dataframe :\n",
            "      a    b    c\n",
            "0   888  136   92\n",
            "1  1332  124   44\n",
            "2  1776   64   84\n",
            "3  2220  128   88\n",
            "4  2664  132  108\n",
            "5  3108  140   44\n",
            "      a    b   c\n",
            "0   666  102  69\n",
            "1   999   93  33\n",
            "2  1332   48  63\n",
            "3  1665   96  66\n",
            "4  1998   99  81\n",
            "5  2331  105  33\n"
          ],
          "name": "stdout"
        }
      ]
    },
    {
      "cell_type": "markdown",
      "metadata": {
        "id": "BmiZR9_OzXXt"
      },
      "source": [
        "# Python EDU/Class\n",
        "\n",
        "\n",
        "---\n",
        "\n",
        "\n",
        "\n",
        "*   [python-course.eu](https://python-course.eu)\n",
        "*   [Scalable Django App with DigitalOcean](https://www.digitalocean.com/community/tutorials/how-to-set-up-a-scalable-django-app-with-digitalocean-managed-databases-and-spaces)\n",
        "*   [Django Youtube Course - Corey Shafer](https://www.youtube.com/watch?list=PL-osiE80TeTtoQCKZ03TU5fNfx2UY6U4p&v=aHC3uTkT9r8&feature=youtu.be)\n",
        "\n"
      ]
    },
    {
      "cell_type": "markdown",
      "metadata": {
        "id": "iI_n7hv2670b"
      },
      "source": [
        "# Date Time\n",
        "\n",
        "*   [Formatting guidelines](https://docs.djangoproject.com/en/2.0/ref/templates/builtins/#date)\n",
        "*   List item\n",
        "\n"
      ]
    }
  ]
}